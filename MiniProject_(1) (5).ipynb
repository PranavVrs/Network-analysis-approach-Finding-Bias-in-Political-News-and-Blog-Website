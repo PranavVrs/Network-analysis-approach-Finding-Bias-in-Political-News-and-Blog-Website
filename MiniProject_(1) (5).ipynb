{
  "nbformat": 4,
  "nbformat_minor": 5,
  "metadata": {
    "colab": {
      "name": "MiniProject (1).ipynb",
      "provenance": [],
      "collapsed_sections": []
    },
    "kernelspec": {
      "display_name": "Python 3",
      "language": "python",
      "name": "python3"
    },
    "language_info": {
      "codemirror_mode": {
        "name": "ipython",
        "version": 3
      },
      "file_extension": ".py",
      "mimetype": "text/x-python",
      "name": "python",
      "nbconvert_exporter": "python",
      "pygments_lexer": "ipython3",
      "version": "3.7.1"
    }
  },
  "cells": [
    {
      "cell_type": "code",
      "metadata": {
        "colab": {
          "base_uri": "https://localhost:8080/"
        },
        "id": "fDcGXhzsitss",
        "outputId": "2a49991c-d8d7-4c7f-cbcd-2223d6cf4219"
      },
      "source": [
        "from google.colab import drive\n",
        "drive.mount(\"/content/drive\")"
      ],
      "id": "fDcGXhzsitss",
      "execution_count": null,
      "outputs": [
        {
          "output_type": "stream",
          "text": [
            "Mounted at /content/drive\n"
          ],
          "name": "stdout"
        }
      ]
    },
    {
      "cell_type": "code",
      "metadata": {
        "id": "effective-enterprise"
      },
      "source": [
        "import networkx as nx\n",
        "import matplotlib.pyplot as plt\n",
        "import random as rand\n",
        "from collections import Counter"
      ],
      "id": "effective-enterprise",
      "execution_count": null,
      "outputs": []
    },
    {
      "cell_type": "code",
      "metadata": {
        "colab": {
          "base_uri": "https://localhost:8080/"
        },
        "id": "changing-spyware",
        "outputId": "760b47b8-7108-49b7-b9b8-13ea8f2a09b1"
      },
      "source": [
        "# Reading File for MEME-WEBSITE bipartite graph\n",
        "\n",
        "#file=open(\"meme-website.txt\", encoding=\"utf-8\")\n",
        "file=open(\"/content/drive/My Drive/Colab Notebooks/Copy of meme-website.txt\", encoding=\"utf-8\")\n",
        "line=0\n",
        "meme_website_dic={}\n",
        "website_dic={}\n",
        "start=0\n",
        "\n",
        "count=0\n",
        "meme=''\n",
        "\n",
        "for x in file :\n",
        "    line+=1\n",
        "    if line%500000 ==0 :\n",
        "        print(line)\n",
        "    if x[0] in '0123456789' :\n",
        "        start=1\n",
        "        x=x.split(\"\\t\")\n",
        "        meme=x[2]\n",
        "        meme_website_dic[meme]=[]\n",
        "    elif start==1:\n",
        "        start=2\n",
        "    elif start==2:\n",
        "        try :\n",
        "            x=x.split(\"\\t\")\n",
        "            type=str(x[4])\n",
        "            if type=='B':\n",
        "                website=str(x[5])\n",
        "                website=website[7:]\n",
        "                ind=website.find('/')\n",
        "                if ind!=-1:\n",
        "                    website=website[:ind]\n",
        "                meme_website_dic[meme].append(website)\n",
        "                try :\n",
        "                    website_dic[website]+=1\n",
        "                except KeyError :\n",
        "                    website_dic[website]=1\n",
        "                count+=1\n",
        "        except IndexError :\n",
        "            dummy=0\n",
        "\n",
        "file.close()\n",
        "\n",
        "#print(count)\n",
        "#print(sum(list(website_dic.values())))\n",
        "print('Number of Websites found :', len(list(website_dic.keys())))\n",
        "print('Number of Memes found :', len(list(meme_website_dic.keys())))\n",
        "print('Established Relationship for Meme-Website')\n",
        "\n"
      ],
      "id": "changing-spyware",
      "execution_count": null,
      "outputs": [
        {
          "output_type": "stream",
          "text": [
            "500000\n",
            "1000000\n",
            "1500000\n",
            "2000000\n",
            "2500000\n",
            "3000000\n",
            "3500000\n",
            "4000000\n",
            "4500000\n",
            "5000000\n",
            "5500000\n",
            "6000000\n",
            "6500000\n",
            "7000000\n",
            "7500000\n",
            "8000000\n",
            "Number of Websites found : 246032\n",
            "Number of Memes found : 71568\n",
            "Established Relationship for Meme-Website\n"
          ],
          "name": "stdout"
        }
      ]
    },
    {
      "cell_type": "code",
      "metadata": {
        "colab": {
          "base_uri": "https://localhost:8080/"
        },
        "id": "outstanding-wagner",
        "outputId": "bc9b93d3-42c8-460e-fbff-2310ae945b16"
      },
      "source": [
        "#Giving Labels for all nodes\n",
        "#website_nodes--------nodes of all websites\n",
        "#meme_nodes-------------nodes of all memes\n",
        "#G.nodes[\"website_name\"]\n",
        "\n",
        "total_attribute_dic={}\n",
        "website_nodes=list(website_dic.keys())\n",
        "for i in website_nodes :\n",
        "    attribute_dic={}\n",
        "    attribute_dic[\"repubican\"]=-1\n",
        "    attribute_dic[\"democratic\"]=-1\n",
        "    attribute_dic[\"label\"]=-1\n",
        "    total_attribute_dic[i]=attribute_dic\n",
        "meme_nodes=list(meme_website_dic.keys())\n",
        "for i in meme_nodes :\n",
        "    attribute_dic={}\n",
        "    attribute_dic[\"repubican\"]=-1\n",
        "    attribute_dic[\"democratic\"]=-1\n",
        "    attribute_dic[\"label\"]=-1\n",
        "    total_attribute_dic[i]=attribute_dic\n",
        "G=nx.Graph(meme_website_dic)\n",
        "#print(\"@@@@@@@@@\")\n",
        "nx.set_node_attributes(G, total_attribute_dic)\n",
        "#print(\"done\")\n",
        "\n",
        "#print('done')\n",
        "print(G.nodes['sudarshankadam.wordpress.com'])"
      ],
      "id": "outstanding-wagner",
      "execution_count": null,
      "outputs": [
        {
          "output_type": "stream",
          "text": [
            "{'repubican': -1, 'democratic': -1, 'label': -1}\n"
          ],
          "name": "stdout"
        }
      ]
    },
    {
      "cell_type": "code",
      "metadata": {
        "colab": {
          "base_uri": "https://localhost:8080/",
          "height": 319
        },
        "id": "Dkj0v3cHkefy",
        "outputId": "cb460cba-1a0e-4a24-9401-2f70419ace31"
      },
      "source": [
        "position=nx.drawing.bipartite_layout(G, list(meme_website_dic.keys()))\n",
        "nx.draw(G, pos=position)\n",
        "plt.show()"
      ],
      "id": "Dkj0v3cHkefy",
      "execution_count": null,
      "outputs": [
        {
          "output_type": "display_data",
          "data": {
            "image/png": "[encoded data removed]",
            "text/plain": [
              "<Figure size 432x288 with 1 Axes>"
            ]
          },
          "metadata": {
            "tags": []
          }
        }
      ]
    },
    {
      "cell_type": "code",
      "metadata": {
        "colab": {
          "base_uri": "https://localhost:8080/"
        },
        "id": "quality-bookmark",
        "outputId": "f8b7cec7-275a-4e6e-9f37-80d6fb92490d"
      },
      "source": [
        "# Reading File for WEBSITE-Label\n",
        "\n",
        "website_label_dic={}\n",
        "website=\"\"\n",
        "\n",
        "file=open(\"/content/drive/My Drive/Colab Notebooks/Copy of website-label.txt\", encoding=\"utf-8\")\n",
        "for x in file :\n",
        "    x=x.lstrip()\n",
        "    x=x.split(' ')\n",
        "    if x[0]== \"label\" :\n",
        "        website=x[1]\n",
        "        website=website[1:]\n",
        "        website=website[:len(website)-2]\n",
        "        ind=website.find('/')\n",
        "        if ind!=-1:\n",
        "            website=website[:ind]\n",
        "        website_label_dic[website]=-1\n",
        "    elif x[0]==\"value\" :\n",
        "        website_label_dic[website]=int(x[1])\n",
        "\n",
        "file.close()\n",
        "website_list=list(website_label_dic.keys())\n",
        "print('Got Political labels for some websites from another source')\n",
        "print(len(website_list), 'websites found with labels')\n"
      ],
      "id": "quality-bookmark",
      "execution_count": null,
      "outputs": [
        {
          "output_type": "stream",
          "text": [
            "Got Political labels for some websites from another source\n",
            "1452 websites found with labels\n"
          ],
          "name": "stdout"
        }
      ]
    },
    {
      "cell_type": "code",
      "metadata": {
        "colab": {
          "base_uri": "https://localhost:8080/"
        },
        "id": "comprehensive-slovakia",
        "scrolled": true,
        "outputId": "19fcca22-b9ec-4b1c-fe8b-d4d40bb7eb71"
      },
      "source": [
        "# Removing the Meme-Website information that doesn't have labels\n",
        "\n",
        "#website_label_dic---------keys :website name, values : it's label (0 or 1) \n",
        "\n",
        "import matplotlib.pyplot as plt\n",
        "\n",
        "new_meme_website_dic={}\n",
        "new_websites_dic={}\n",
        "q=0\n",
        "for i in meme_website_dic :\n",
        "    q+=1\n",
        "    if q%1000==0 :\n",
        "        print(q)\n",
        "    websites_arr=meme_website_dic[i]\n",
        "    new_websites_arr=[]\n",
        "    for j in website_list :\n",
        "        if j in websites_arr :\n",
        "            new_websites_arr.append(j)\n",
        "            new_websites_dic[j]=website_label_dic[j]\n",
        "    if new_websites_arr!=[] :\n",
        "        new_meme_website_dic[i]=new_websites_arr\n",
        "\n",
        "meme_website_dic=new_meme_website_dic\n",
        "website_label_dic=new_websites_dic\n",
        "print('Final number of memes considering:', len(list(meme_website_dic.keys())))\n",
        "print('Final number of websites considering:', len(list(website_label_dic.keys())))\n",
        "print('Done cleaning the data')\n",
        "\n",
        "\n",
        "\n",
        "\n",
        "\n"
      ],
      "id": "comprehensive-slovakia",
      "execution_count": null,
      "outputs": [
        {
          "output_type": "stream",
          "text": [
            "1000\n",
            "2000\n",
            "3000\n",
            "4000\n",
            "5000\n",
            "6000\n",
            "7000\n",
            "8000\n",
            "9000\n",
            "10000\n",
            "11000\n",
            "12000\n",
            "13000\n",
            "14000\n",
            "15000\n",
            "16000\n",
            "17000\n",
            "18000\n",
            "19000\n",
            "20000\n",
            "21000\n",
            "22000\n",
            "23000\n",
            "24000\n",
            "25000\n",
            "26000\n",
            "27000\n",
            "28000\n",
            "29000\n",
            "30000\n",
            "31000\n",
            "32000\n",
            "33000\n",
            "34000\n",
            "35000\n",
            "36000\n",
            "37000\n",
            "38000\n",
            "39000\n",
            "40000\n",
            "41000\n",
            "42000\n",
            "43000\n",
            "44000\n",
            "45000\n",
            "46000\n",
            "47000\n",
            "48000\n",
            "49000\n",
            "50000\n",
            "51000\n",
            "52000\n",
            "53000\n",
            "54000\n",
            "55000\n",
            "56000\n",
            "57000\n",
            "58000\n",
            "59000\n",
            "60000\n",
            "61000\n",
            "62000\n",
            "63000\n",
            "64000\n",
            "65000\n",
            "66000\n",
            "67000\n",
            "68000\n",
            "69000\n",
            "70000\n",
            "71000\n",
            "Final number of memes considering: 17341\n",
            "Final number of websites considering: 337\n",
            "Done cleaning the data\n"
          ],
          "name": "stdout"
        }
      ]
    },
    {
      "cell_type": "code",
      "metadata": {
        "id": "8UXOJ6nokDR-"
      },
      "source": [
        "nx.draw()"
      ],
      "id": "8UXOJ6nokDR-",
      "execution_count": null,
      "outputs": []
    },
    {
      "cell_type": "code",
      "metadata": {
        "id": "egyptian-shield",
        "outputId": "8e23642a-a37b-4857-c396-0613de525760"
      },
      "source": [
        "################################################### For Plotting Degree graphs\n",
        "\n",
        "G1=nx.Graph(meme_website_dic)\n",
        "\n",
        "edges_for_meme_arr=list(meme_website_dic.values())\n",
        "degree_sequence_for_meme_arr=[]\n",
        "for i in edges_for_meme_arr :\n",
        "    degree_sequence_for_meme_arr.append(len(i))\n",
        "meme_degree_dic={}\n",
        "for i in degree_sequence_for_meme_arr :\n",
        "    try :\n",
        "        meme_degree_dic[i]+=1\n",
        "    except KeyError :\n",
        "        meme_degree_dic[i]=1\n",
        "x_arr_meme=sorted(meme_degree_dic)\n",
        "y_arr_meme=[]\n",
        "for i in x_arr_meme :\n",
        "    y_arr_meme.append(meme_degree_dic[i])\n",
        "#print(x_arr_meme)\n",
        "#print(y_arr_meme)\n",
        "plt.plot(x_arr_meme, y_arr_meme, marker='o', color='red')\n",
        "plt.xscale('log')\n",
        "plt.yscale('log')\n",
        "plt.title(\"Degree of Meme Nodes\")\n",
        "plt.show()\n",
        "#print(degree_sequence_for_meme_arr)\n",
        "\n",
        "website_arr_for_graph=list(website_label_dic.keys())\n",
        "degree_sequence_for_website_arr=[]\n",
        "for i in website_arr_for_graph :\n",
        "    degree_sequence_for_website_arr.append(G1.degree[i])\n",
        "website_degree_dic={}\n",
        "for i in degree_sequence_for_website_arr :\n",
        "    try :\n",
        "        website_degree_dic[i]+=1\n",
        "    except KeyError :\n",
        "        website_degree_dic[i]=1\n",
        "x_arr_website=sorted(website_degree_dic)\n",
        "y_arr_website=[]\n",
        "for i in x_arr_website :\n",
        "    y_arr_website.append(website_degree_dic[i])\n",
        "#print(x_arr_website)\n",
        "#print(y_arr_website)\n",
        "plt.plot(x_arr_website, y_arr_website, marker='o', color='red')\n",
        "plt.xscale('log')\n",
        "plt.yscale('log')\n",
        "plt.title(\"Degree of Website Nodes\")\n",
        "plt.show()"
      ],
      "id": "egyptian-shield",
      "execution_count": null,
      "outputs": [
        {
          "output_type": "display_data",
          "data": {
            "image/png": "[encoded data removed]",
            "text/plain": [
              "<Figure size 432x288 with 1 Axes>"
            ]
          },
          "metadata": {
            "tags": []
          }
        },
        {
          "output_type": "display_data",
          "data": {
            "image/png": "[encoded data removed]",
            "text/plain": [
              "<Figure size 432x288 with 1 Axes>"
            ]
          },
          "metadata": {
            "tags": []
          }
        }
      ]
    },
    {
      "cell_type": "code",
      "metadata": {
        "colab": {
          "base_uri": "https://localhost:8080/"
        },
        "id": "7sNRVZWKlzW8",
        "outputId": "215fd995-6429-4d7a-ee2d-f872b33add0e"
      },
      "source": [
        "#website_nodes--------nodes of all websites\n",
        "#meme_nodes-------------nodes of all memes\n",
        "#G.nodes[\"website_name\"]\n",
        "#website_label_dic---------keys :website name, values : it's label (0 or 1)\n",
        "print(len(website_nodes))\n",
        "print(len(website_nodes)+len(meme_nodes))\n",
        "print(len(meme_nodes))\n",
        "print(len(G.nodes))\n",
        "print(len(website_label_dic))"
      ],
      "id": "7sNRVZWKlzW8",
      "execution_count": null,
      "outputs": [
        {
          "output_type": "stream",
          "text": [
            "246032\n",
            "317600\n",
            "71568\n",
            "317600\n",
            "337\n"
          ],
          "name": "stdout"
        }
      ]
    },
    {
      "cell_type": "code",
      "metadata": {
        "colab": {
          "base_uri": "https://localhost:8080/"
        },
        "id": "YYIPyoBIXTQX",
        "outputId": "f7e14fcf-bd73-4dbf-fa81-fbd1c60784ad"
      },
      "source": [
        "\n",
        "for i in website_label_dic:\n",
        "  G.nodes[i]['label']=website_label_dic[i]\n",
        "print(i)\n",
        "print(website_label_dic[i])\n",
        "print(G.nodes[i])\n",
        "print(\"All nodes for which we have labeled data are labeled here\")"
      ],
      "id": "YYIPyoBIXTQX",
      "execution_count": null,
      "outputs": [
        {
          "output_type": "stream",
          "text": [
            "americansforbayh.blogspot.com\n",
            "0\n",
            "{'repubican': -1, 'democratic': -1, 'label': 0}\n",
            "All nodes for which we have labeled data are labeled here\n"
          ],
          "name": "stdout"
        }
      ]
    },
    {
      "cell_type": "code",
      "metadata": {
        "id": "UOC8ZZuRYxmD"
      },
      "source": [
        "w_labeled_list=list(website_label_dic.keys())\n",
        "not_w_labeled_list=[]"
      ],
      "id": "UOC8ZZuRYxmD",
      "execution_count": null,
      "outputs": []
    },
    {
      "cell_type": "code",
      "metadata": {
        "id": "njRVU5XWnLqa"
      },
      "source": [
        "## This is the algorithm we used for finding the bias of Website nodes.\n",
        "def our_algo(wn,mn,wlabeledlistt,g):\n",
        "  \n",
        "  t=1\n",
        "  E=1001\n",
        "  unlabledwn=list(set(wn)-set(wlabeledlistt))\n",
        "\n",
        "  while (E>20):\n",
        "    print(\"t=\",t)\n",
        "    print(\"E=\",E)\n",
        "    now=[]\n",
        "    \n",
        "    if (t%2!=0):\n",
        "      now=mn\n",
        "      changee=0\n",
        "    else:\n",
        "      E=0\n",
        "      now=unlabledwn\n",
        "      changee=1\n",
        "    print(\"now len\",len(now))\n",
        "    for i in now:\n",
        "      \n",
        "      neigh=list(g.neighbors(i))\n",
        "      noofrep=0\n",
        "      noofdem=0\n",
        "      atnowlabel=g.nodes[i]['label']\n",
        "      \n",
        "      #print(\"ok2\")\n",
        "      #print(\"neigh len\",len(neigh))  \n",
        "      for j in neigh:\n",
        "        if (g.nodes[j]['label']!=-1):\n",
        "          noofdem+=g.nodes[j]['democratic']\n",
        "          noofrep+=g.nodes[j]['repubican']\n",
        "        #elif (g.nodes[j]['label']==1):\n",
        "        #  noofrep+=1\n",
        "      \n",
        "      if ((noofrep>0) or (noofdem)>0):\n",
        "        g.nodes[i]['repubican']=noofrep/(noofrep+noofdem)\n",
        "        g.nodes[i]['democratic']=noofdem/(noofrep+noofdem)\n",
        "      \n",
        "        if (g.nodes[i]['repubican']>g.nodes[i]['democratic']):\n",
        "          g.nodes[i]['label']=1\n",
        "        elif (g.nodes[i]['repubican']<g.nodes[i]['democratic']):\n",
        "          g.nodes[i]['label']=0\n",
        "        else:\n",
        "          g.nodes[i]['label']=rand.choice([0,1])\n",
        "\n",
        "      if ((atnowlabel!=g.nodes[i]['label']) and (changee==1)):\n",
        "        E+=1\n",
        "    pranavvv(g)\n",
        "    print(\"last E=\",E)\n",
        "    t+=1\n",
        "  return(g)"
      ],
      "id": "njRVU5XWnLqa",
      "execution_count": null,
      "outputs": []
    },
    {
      "cell_type": "code",
      "metadata": {
        "colab": {
          "background_save": true,
          "base_uri": "https://localhost:8080/"
        },
        "id": "h89R0gYoliwb",
        "outputId": "c5f2b532-5d37-4492-801b-087c7ef11529"
      },
      "source": [
        "kkk=our_algo(website_nodes.copy(),meme_nodes.copy(),w_labeled_list.copy(),G.copy())"
      ],
      "id": "h89R0gYoliwb",
      "execution_count": null,
      "outputs": [
        {
          "output_type": "stream",
          "text": [
            "t= 1\n",
            "E= 1001\n",
            "now len 71568\n",
            "rep= 157\n",
            "dem= 180\n",
            "other= 317263\n",
            "last E= 1001\n",
            "t= 2\n",
            "E= 1001\n",
            "now len 245695\n",
            "rep= 157\n",
            "dem= 180\n",
            "other= 317263\n",
            "last E= 0\n"
          ],
          "name": "stdout"
        }
      ]
    },
    {
      "cell_type": "code",
      "metadata": {
        "id": "OzpYpw37pf_k"
      },
      "source": [
        "def pranavvv(a):\n",
        "  anvr=0\n",
        "  anvd=0\n",
        "  anvo=0\n",
        "  for i in a.nodes:\n",
        "    if (a.nodes[i]['label']==0):\n",
        "      anvd+=1\n",
        "    elif (a.nodes[i]['label']==1):\n",
        "      anvr+=1\n",
        "    else:\n",
        "      anvo+=1\n",
        "  print(\"rep=\",anvr)\n",
        "  print(\"dem=\",anvd)\n",
        "  print(\"other=\",anvo)"
      ],
      "id": "OzpYpw37pf_k",
      "execution_count": null,
      "outputs": []
    },
    {
      "cell_type": "markdown",
      "metadata": {
        "id": "da6hiDSV1pPx"
      },
      "source": [
        "**All the things done below this are for verification purpose**"
      ],
      "id": "da6hiDSV1pPx"
    },
    {
      "cell_type": "code",
      "metadata": {
        "colab": {
          "base_uri": "https://localhost:8080/"
        },
        "id": "2Y5IKODRx-gQ",
        "outputId": "31de38e9-4044-41e8-e92a-9058f38926db"
      },
      "source": [
        "Counter(list(website_label_dic.values()))"
      ],
      "id": "2Y5IKODRx-gQ",
      "execution_count": null,
      "outputs": [
        {
          "output_type": "execute_result",
          "data": {
            "text/plain": [
              "Counter({0: 180, 1: 157})"
            ]
          },
          "metadata": {
            "tags": []
          },
          "execution_count": 62
        }
      ]
    },
    {
      "cell_type": "code",
      "metadata": {
        "colab": {
          "base_uri": "https://localhost:8080/"
        },
        "id": "pvpvuszRyxGG",
        "outputId": "832c0354-1f16-4daf-fbde-d3ecd4b03748"
      },
      "source": [
        "nowtest=[]\n",
        "for i in G.nodes:\n",
        "  nowtest.append(kkk.nodes[i]['label'])\n",
        "print(Counter(nowtest))"
      ],
      "id": "pvpvuszRyxGG",
      "execution_count": null,
      "outputs": [
        {
          "output_type": "stream",
          "text": [
            "Counter({1: 316675, 0: 464, -1: 461})\n"
          ],
          "name": "stdout"
        }
      ]
    },
    {
      "cell_type": "code",
      "metadata": {
        "colab": {
          "base_uri": "https://localhost:8080/"
        },
        "id": "pressed-lobby",
        "outputId": "8a773c5f-76c1-4cd9-acff-8a8137c9ef30"
      },
      "source": [
        "memeo=0\n",
        "memed=0\n",
        "memer=0\n",
        "webo=0\n",
        "webd=0\n",
        "webr=0\n",
        "\n",
        "for i in website_nodes:\n",
        "  if (kkk.nodes[i]['label']==0):\n",
        "    webd+=1\n",
        "  elif (kkk.nodes[i]['label']==1):\n",
        "    webr+=1\n",
        "  else:\n",
        "    webo+=1\n",
        "\n",
        "for i in meme_nodes:\n",
        "  if (kkk.nodes[i]['label']==0):\n",
        "    memed+=1\n",
        "  elif (kkk.nodes[i]['label']==1):\n",
        "    memer+=1\n",
        "  else:\n",
        "    memeo+=1\n",
        "#len(meme_nodes):\n",
        "print(\"memed\",memed)\n",
        "print(\"memer\",memer)\n",
        "print(\"memeo\",memeo)\n",
        "print(\"webd\",webd)\n",
        "print(\"webr\",webr)\n",
        "print(\"webo\",webo)"
      ],
      "id": "pressed-lobby",
      "execution_count": null,
      "outputs": [
        {
          "output_type": "stream",
          "text": [
            "memed 34\n",
            "memer 71088\n",
            "memeo 446\n",
            "webd 430\n",
            "webr 245587\n",
            "webo 15\n"
          ],
          "name": "stdout"
        }
      ]
    },
    {
      "cell_type": "code",
      "metadata": {
        "colab": {
          "base_uri": "https://localhost:8080/"
        },
        "id": "9uRxyiDAz_nj",
        "outputId": "4c53e91d-4492-4a7c-bfbf-f28c74364284"
      },
      "source": [
        "degtest=[]\n",
        "for i in kkk.nodes:\n",
        "  if(kkk.nodes[i]['label']==-1):\n",
        "    degtest.append(kkk.degree(i))\n",
        "Counter(degtest)"
      ],
      "id": "9uRxyiDAz_nj",
      "execution_count": null,
      "outputs": [
        {
          "output_type": "execute_result",
          "data": {
            "text/plain": [
              "Counter({0: 432, 1: 28, 2: 1})"
            ]
          },
          "metadata": {
            "tags": []
          },
          "execution_count": 73
        }
      ]
    }
  ]
}